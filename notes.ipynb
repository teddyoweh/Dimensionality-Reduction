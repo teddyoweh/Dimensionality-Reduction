{
 "cells": [
  {
   "cell_type": "markdown",
   "id": "e0ea5f13",
   "metadata": {},
   "source": [
    "# Dimensionality reduction\n",
    "\n",
    " Dimensionality is refered to the attribute or features of a dataset"
   ]
  },
  {
   "cell_type": "code",
   "execution_count": 6,
   "id": "bc5c4ff8",
   "metadata": {},
   "outputs": [
    {
     "data": {
      "text/html": [
       "<div>\n",
       "<style scoped>\n",
       "    .dataframe tbody tr th:only-of-type {\n",
       "        vertical-align: middle;\n",
       "    }\n",
       "\n",
       "    .dataframe tbody tr th {\n",
       "        vertical-align: top;\n",
       "    }\n",
       "\n",
       "    .dataframe thead th {\n",
       "        text-align: right;\n",
       "    }\n",
       "</style>\n",
       "<table border=\"1\" class=\"dataframe\">\n",
       "  <thead>\n",
       "    <tr style=\"text-align: right;\">\n",
       "      <th></th>\n",
       "      <th>Name</th>\n",
       "      <th>Age</th>\n",
       "      <th>Gender</th>\n",
       "      <th>Major</th>\n",
       "    </tr>\n",
       "  </thead>\n",
       "  <tbody>\n",
       "    <tr>\n",
       "      <th>0</th>\n",
       "      <td>Teddy</td>\n",
       "      <td>15</td>\n",
       "      <td>Male</td>\n",
       "      <td>CS</td>\n",
       "    </tr>\n",
       "    <tr>\n",
       "      <th>1</th>\n",
       "      <td>Oprah</td>\n",
       "      <td>18</td>\n",
       "      <td>Female</td>\n",
       "      <td>Nursing</td>\n",
       "    </tr>\n",
       "    <tr>\n",
       "      <th>2</th>\n",
       "      <td>Dave</td>\n",
       "      <td>20</td>\n",
       "      <td>Male</td>\n",
       "      <td>Business</td>\n",
       "    </tr>\n",
       "  </tbody>\n",
       "</table>\n",
       "</div>"
      ],
      "text/plain": [
       "    Name  Age  Gender     Major\n",
       "0  Teddy   15    Male        CS\n",
       "1  Oprah   18  Female   Nursing\n",
       "2   Dave   20    Male  Business"
      ]
     },
     "execution_count": 6,
     "metadata": {},
     "output_type": "execute_result"
    }
   ],
   "source": [
    "import pandas as pd\n",
    "dataset = pd.read_csv('Sample1.csv')\n",
    "dataset.head()"
   ]
  },
  {
   "cell_type": "markdown",
   "id": "2b1a1ff9",
   "metadata": {},
   "source": [
    "This dataset is 4-dimensional dataset because it has attributes/features\n",
    "#### Dimensionality reduction is basically a process of reducing the amount of random features,attributes variables or in this case called dimensions in a dataset  and leaving as much variation in the dataset as possible by obtaining a set of only relevant features to increase the effiency of a model."
   ]
  },
  {
   "cell_type": "code",
   "execution_count": 12,
   "id": "4dbb61e2",
   "metadata": {},
   "outputs": [
    {
     "data": {
      "text/html": [
       "<div>\n",
       "<style scoped>\n",
       "    .dataframe tbody tr th:only-of-type {\n",
       "        vertical-align: middle;\n",
       "    }\n",
       "\n",
       "    .dataframe tbody tr th {\n",
       "        vertical-align: top;\n",
       "    }\n",
       "\n",
       "    .dataframe thead th {\n",
       "        text-align: right;\n",
       "    }\n",
       "</style>\n",
       "<table border=\"1\" class=\"dataframe\">\n",
       "  <thead>\n",
       "    <tr style=\"text-align: right;\">\n",
       "      <th></th>\n",
       "      <th>Name</th>\n",
       "      <th>Age</th>\n",
       "      <th>Gender</th>\n",
       "    </tr>\n",
       "  </thead>\n",
       "  <tbody>\n",
       "    <tr>\n",
       "      <th>0</th>\n",
       "      <td>Teddy</td>\n",
       "      <td>15</td>\n",
       "      <td>Male</td>\n",
       "    </tr>\n",
       "    <tr>\n",
       "      <th>1</th>\n",
       "      <td>Oprah</td>\n",
       "      <td>18</td>\n",
       "      <td>Female</td>\n",
       "    </tr>\n",
       "    <tr>\n",
       "      <th>2</th>\n",
       "      <td>Dave</td>\n",
       "      <td>20</td>\n",
       "      <td>Male</td>\n",
       "    </tr>\n",
       "  </tbody>\n",
       "</table>\n",
       "</div>"
      ],
      "text/plain": [
       "    Name  Age  Gender\n",
       "0  Teddy   15    Male\n",
       "1  Oprah   18  Female\n",
       "2   Dave   20    Male"
      ]
     },
     "execution_count": 12,
     "metadata": {},
     "output_type": "execute_result"
    }
   ],
   "source": [
    "df =dataset.drop(['Major'],axis='columns')\n",
    "df"
   ]
  },
  {
   "cell_type": "markdown",
   "id": "cc308e8b",
   "metadata": {},
   "source": [
    "#### Above, the dataset was just reduced from a  4-dimensional dataset to a  3 -dimensional dataset"
   ]
  },
  {
   "cell_type": "markdown",
   "id": "bdb82317",
   "metadata": {},
   "source": [
    "# Importance of Dimensionality Reduction\n",
    "\n",
    "When running models or training models machine Learning not all the dimensions of a datasets are relevant, and to make you a model train in a less time and more effienct dimensionality reduction should be carried out on a dataset to remove the irrelevant datasets. It avoids overfitting of a dataset because, when attributes or dimensions are many, the model tends to become complex and overfit on the training data. Also useful when visualizing data\n",
    "\n",
    "#### Two approaches are either keeping the most important features and removing the rest and .. combination of features to reduce the dimensions\n"
   ]
  },
  {
   "cell_type": "markdown",
   "id": "9c559140",
   "metadata": {},
   "source": [
    "# Feature Extraction and Feature Selection? \n",
    "Feature selection removes irrelevant features from a dataset.\n",
    "Feature extraction  makes new features from existing ones.\n",
    "\n",
    "### Both dimensionality reduction processes.\n"
   ]
  },
  {
   "cell_type": "markdown",
   "id": "a7f87f4d",
   "metadata": {},
   "source": [
    "# Why feature selection is important?\n",
    "Feature selection is rather important because it is an effiecient method of dimensionality reduction by removing irrelevant features. It also builds an accurate model with better prediction power and overfitting by selecting only relevant features."
   ]
  },
  {
   "cell_type": "markdown",
   "id": "8d0aa512",
   "metadata": {},
   "source": [
    "# Wrapper-based feature selection\n",
    "In wrapper methods, it is based on a specific machine learning algorithm.\n",
    "It evaluates all the features of a dataset and gives optimal results of the various combinations of features.\n",
    "\n",
    "Some methods are \n",
    "\n",
    "### Forward Selection\n",
    "This process starts off with no feature then keeps features which improves the model the best till when a new feature doesn't improve the model\n",
    "\n",
    "### Backward Elimination\n",
    "This process removes the least significant feature which improves the performance of the model."
   ]
  },
  {
   "cell_type": "markdown",
   "id": "f9cb76ff",
   "metadata": {},
   "source": [
    "# Filter-based feature selection\n",
    "In this process the features Dimensionality reduction is a machine learning (ML) or statistical technique of reducing the amount of random features,attributes variables or in this case called dimensions in a dataset by obtaining a set of only relevant features to increase the effiency of a model. are selected based of their results in statical tests"
   ]
  },
  {
   "cell_type": "markdown",
   "id": "6907b8f1",
   "metadata": {},
   "source": [
    "# Embedded-based feature selection\n",
    "This process combines both the Wrapper and Filter based selection methods. It tests both methods,generate a combination of features and selection the best of the methods that improves the models performance"
   ]
  },
  {
   "cell_type": "markdown",
   "id": "e64f51b7",
   "metadata": {},
   "source": []
  }
 ],
 "metadata": {
  "kernelspec": {
   "display_name": "Python 3 (ipykernel)",
   "language": "python",
   "name": "python3"
  },
  "language_info": {
   "codemirror_mode": {
    "name": "ipython",
    "version": 3
   },
   "file_extension": ".py",
   "mimetype": "text/x-python",
   "name": "python",
   "nbconvert_exporter": "python",
   "pygments_lexer": "ipython3",
   "version": "3.9.7"
  }
 },
 "nbformat": 4,
 "nbformat_minor": 5
}
